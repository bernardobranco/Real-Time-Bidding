{
 "cells": [
  {
   "cell_type": "code",
   "execution_count": 23,
   "metadata": {
    "collapsed": true
   },
   "outputs": [],
   "source": [
    "import pandas as pd\n",
    "import preprocessing as preprop\n",
    "from sklearn import preprocessing, linear_model, svm, model_selection, metrics, ensemble\n",
    "import matplotlib.pyplot as plt\n",
    "import numpy as np\n",
    "import timeit\n",
    "import multiprocessing\n",
    "import util\n",
    "from collections import defaultdict"
   ]
  },
  {
   "cell_type": "code",
   "execution_count": 29,
   "metadata": {
    "collapsed": false
   },
   "outputs": [
    {
     "name": "stdout",
     "output_type": "stream",
     "text": [
      "Loading data took 7.873s\n"
     ]
    }
   ],
   "source": [
    "#THIS NOTEBOOK WAS RUN WHEN THE COURSEWORK WAS FIRST RELEASED - A LOT OF PREPROCESSING AND FEATURE ENGINEERING\n",
    "#(INCLUDING 'PER-ADVERTISER' TRICK) HAVE BEEN INTRODUCED BY OTHER TEAM MEMBERS SINCE THEN\n",
    "t0 = timeit.default_timer()\n",
    "validation_data = pd.read_csv(\"./data/validation.csv\",)\n",
    "train_data      = pd.read_csv(\"./data/train.csv\",nrows=500000)\n",
    "test_data       = pd.read_csv(\"./data/test.csv\")\n",
    "print(\"Loading data took {:.3f}s\".format(timeit.default_timer() - t0))\n",
    "avg_ctr = train_data['click'].mean()"
   ]
  },
  {
   "cell_type": "code",
   "execution_count": null,
   "metadata": {
    "collapsed": true
   },
   "outputs": [],
   "source": [
    "TARGET_COLS=['payprice','bidprice','click']\n",
    "EXCLUDED_COLS=TARGET_COLS + ['bidid', 'logtype', 'usertag', 'userid', 'urlid', 'slotid', 'IP', 'url', 'domain']\n",
    "X_train=train_data[[x for x in train_data if x not in EXCLUDED_COLS]]\n",
    "\n",
    "t0 = timeit.default_timer()\n",
    "\n",
    "label_encoder=preprocessing.LabelEncoder\n",
    "d = defaultdict(label_encoder)\n",
    "\n",
    "X_train = X_train.apply(lambda x: d[x.name].fit_transform(x))\n",
    "\n",
    "print(\"Preprocessing training data took {:.3f}s\".format(timeit.default_timer() - t0))\n",
    "\n",
    "t0 = timeit.default_timer()\n",
    "X_val=validation_data[[x for x in validation_data if x not in EXCLUDED_COLS]]\n",
    "X_val = X_val.apply(lambda x: d[x.name].fit_transform(x))\n",
    "\n",
    "print(\"Preprocessing validation data took {:.3f}s\".format(timeit.default_timer() - t0))\n",
    "Y_train_click=train_data[TARGET_COLS[2]]\n",
    "Y_val_click=validation_data[TARGET_COLS[2]]\n"
   ]
  },
  {
   "cell_type": "code",
   "execution_count": null,
   "metadata": {
    "collapsed": true
   },
   "outputs": [],
   "source": [
    "parameters={'log regression': {'class_weight': ['balanced', None], 'C': np.logspace(-8, 5, 20)}, \\\n",
    "            \n",
    "            'SGD classifier': {'class_weight': ['balanced', None],'eta0':np.logspace(-8,-4,10),\\\n",
    "                               'loss': ['log','perceptron','hinge'],'verbose':[0], 'l1_ratio':np.linspace(0,1,11), 'n_iter':[5,6,7,8,9,10],\\\n",
    "                              'learning_rate':['constant','optimal','invscaling']},\n",
    "            \n",
    "           'Gradient Boosting':{'loss':['exponential','deviance'],'learning_rate':np.logspace(-8,-1,30),'verbose':[1],\\\n",
    "                                'max_features':['auto','sqrt','log2',None],'max_depth':[3,4],'n_estimators':[200,300,400]},\n",
    "             }\n",
    "\n",
    "#WARNING - TRAINING ONE SINGLE ALGORITHM TAKES DAYS ON A 4-CORE MACBOOK PRO 2016. MIGHT WANT TO TURN OFF VERBOSE IN PARAMS.\n",
    "def train_ctr_pred(sklearn_model, parameters, cv, scoring, X_train=X_train, Y_train_click=Y_train_click):\n",
    "    \n",
    "    t0 = timeit.default_timer()\n",
    "\n",
    "    model = model_selection.GridSearchCV(sklearn_model, parameters, cv=3, verbose=True, n_jobs=multiprocessing.cpu_count(), pre_dispatch=\"1*n_jobs\", scoring=scoring)\n",
    "    model.fit(X_train, Y_train_click)\n",
    "    print(\"Training {} took {:.2f}s\".format(sklearn_model, timeit.default_timer() - t0))\n",
    "            \n",
    "    return model\n",
    "            \n",
    "model=train_ctr_pred(ensemble.GradientBoostingClassifier(),parameters['Gradient Boosting'],3,\"roc_auc\")\n",
    "            \n",
    "    \n"
   ]
  },
  {
   "cell_type": "code",
   "execution_count": null,
   "metadata": {
    "collapsed": true
   },
   "outputs": [],
   "source": [
    "model_scores = list()\n",
    "model_scores.append(model.best_score_)\n",
    "\n",
    "print(\"=============================================\")\n",
    "print(\"{}\".format('Gradient Boosting Classifier'))\n",
    "print(\"=============================================\")\n",
    "print(\"Best parameters set found on training set:\")\n",
    "print()\n",
    "print(model.best_params_)\n",
    "print()\n",
    "print(\"Grid scores on training set:\")\n",
    "print()\n",
    "means = model.cv_results_['mean_test_score']\n",
    "stds = model.cv_results_['std_test_score']\n",
    "for mean, std, params in zip(means, stds, model.cv_results_['params']):\n",
    "    print(\"%0.3f (+/-%0.03f) for %r\"\n",
    "        % (mean, std * 2, params))\n",
    "print(\"=============================================\")\n",
    "print(\"=============================================\")\n",
    "print('THE BEST SCORE IS ',model_scores)"
   ]
  },
  {
   "cell_type": "code",
   "execution_count": null,
   "metadata": {
    "collapsed": true
   },
   "outputs": [],
   "source": [
    "probs=model.predict_proba(X_train)\n",
    "pred_ctr = [x for x in map(lambda proba: proba[1], probs)]\n",
    "pred_ctr_df=pd.DataFrame({'predCTR':pred_ctr})\n",
    "pred_ctr_df"
   ]
  },
  {
   "cell_type": "code",
   "execution_count": null,
   "metadata": {
    "collapsed": true
   },
   "outputs": [],
   "source": [
    "avg_ctr=sum(pred_ctr)/len(pred_ctr)\n",
    "X_train_with_ctr=pd.concat([X_train,pred_ctr_df],axis=1)\n"
   ]
  },
  {
   "cell_type": "code",
   "execution_count": 81,
   "metadata": {
    "collapsed": true
   },
   "outputs": [],
   "source": [
    "def linear(base_bid,round_bids=True):\n",
    "    if round_bids is True:\n",
    "        return lambda ctr: np.rint(base_bid * (ctr / avg_ctr))\n",
    "    else:\n",
    "        return lambda ctr: base_bid * (ctr / avg_ctr)\n",
    "    \n",
    "def ortb1(c,alpha,round_bids=True):\n",
    "    if round_bids is True:\n",
    "        return lambda ctr: np.rint(np.sqrt((c / alpha) * ctr + c**2) - c)\n",
    "    else:\n",
    "        return lambda ctr: np.sqrt((c / alpha) * ctr + c**2) - c\n",
    "    \n",
    "def ortb2(c,alpha,round_bids=True):\n",
    "    if round_bids is True:\n",
    "        return lambda ctr: np.rint(c * (np.power(((ctr + np.sqrt(c ** 2 * alpha ** 2 + ctr ** 2)) / (c * alpha)), 1 / 3) - np.power((c * alpha) / (ctr + np.sqrt(c ** 2 * alpha ** 2 + ctr ** 2)), 1 / 3)))\n",
    "    else:\n",
    "        return lambda ctr: c * (np.power(((ctr + np.sqrt(c ** 2 * alpha ** 2 + ctr ** 2)) / (c * alpha)), 1 / 3) - np.power((c * alpha) / (ctr + np.sqrt(c ** 2 * alpha ** 2 + ctr ** 2)), 1 / 3))\n",
    "\n",
    "strategies={'linear':linear, 'ortb1':ortb1,'ortb2':ortb2}\n",
    "                                         \n",
    "def generate_bidprice(pred_ctr_df, strategy, round_bids=True):\n",
    "    \n",
    "    X_bidprice=pd.DataFrame({'bidprice':pred_ctr_df['predCTR'].apply(strategy)})\n",
    "                                         \n",
    "    return X_bidprice\n",
    "\n"
   ]
  },
  {
   "cell_type": "code",
   "execution_count": null,
   "metadata": {
    "collapsed": true
   },
   "outputs": [],
   "source": [
    "\n",
    "def count_clicks(data,budget,verbose=False):\n",
    "    t0 = timeit.default_timer()\n",
    "    clicks=0\n",
    "    won=0\n",
    "    lost=0\n",
    "    paid=0\n",
    "    for row in data.itertuples():\n",
    "        if row.payprice<row.bidprice:\n",
    "            won+=1\n",
    "            budget-=row.payprice\n",
    "            paid+=row.payprice\n",
    "            if row.click==1:\n",
    "                clicks+=1\n",
    "            if budget<0:\n",
    "                print('paid ', paid)\n",
    "                break\n",
    "        else:\n",
    "            lost+=1\n",
    "    elapsed_time=timeit.default_timer() - t0\n",
    "    if verbose is True:\n",
    "        print(\"Counting clicks took {}s\".format(elapsed_time))\n",
    "    return {'clicks':clicks,'won':won,'lost':lost,'paid':paid}\n",
    "\n",
    "def optimise_strategy(data,strategy,budget,round_bids=True):\n",
    "    #we only need 4 columns (predCTR, bidprice,payprice,click), hence the name four_columns below\n",
    "    t0 = timeit.default_timer()\n",
    "    base_bid_range=np.linspace(1,5,25)\n",
    "    ortb1={'C':np.linspace(40, 60, 5),'alpha': np.linspace(1e-10, 1e-2, 50)}\n",
    "    ortb2={'C': np.linspace(40, 60, 5), \"alpha\": np.linspace(1e-10, 1e-2, 50)}\n",
    "    \n",
    "    global avg_ctr\n",
    "    best_clicks=0\n",
    "    best_base_bid=0\n",
    "    best_res=None\n",
    "    if strategy=='linear':\n",
    "        for base_bid in base_bid_range:\n",
    "            print('base bid is ', base_bid)\n",
    "            print(data.head())\n",
    "            bidprice_col=generate_bidprice(data,strategies[strategy](base_bid),avg_ctr)\n",
    "            \n",
    "            four_columns=pd.concat([data,bidprice_col],axis=1)\n",
    "            res=count_clicks(four_columns,budget,verbose=True)\n",
    "            print('Got {} clicks'.format(res['clicks']))\n",
    "            \n",
    "            if res['clicks']>best_clicks:\n",
    "                best_clicks=res['clicks']\n",
    "                best_base_bid=base_bid\n",
    "                best_res=res\n",
    "    return {'best_clicks':best_clicks,'best_base_bid':best_base_bid,'best_res':best_res}\n",
    "    elapsed_time=timeit.default_timer() - t0\n",
    "    print(\"Optimising {} took {}s\".format(strategy,elapsed_time))\n",
    "\n",
    "data=pd.concat([pred_ctr_df,train_data['payprice'],Y_train_click],axis=1)\n",
    "\n",
    "res=optimise_strategy(data,'linear',6250)\n",
    "print(res)"
   ]
  },
  {
   "cell_type": "code",
   "execution_count": null,
   "metadata": {
    "collapsed": true
   },
   "outputs": [],
   "source": [
    "res['best_res']"
   ]
  }
 ],
 "metadata": {
  "anaconda-cloud": {},
  "kernelspec": {
   "display_name": "Python 3",
   "language": "python",
   "name": "python3"
  },
  "language_info": {
   "codemirror_mode": {
    "name": "ipython",
    "version": 3
   },
   "file_extension": ".py",
   "mimetype": "text/x-python",
   "name": "python",
   "nbconvert_exporter": "python",
   "pygments_lexer": "ipython3",
   "version": "3.5.2"
  }
 },
 "nbformat": 4,
 "nbformat_minor": 1
}
